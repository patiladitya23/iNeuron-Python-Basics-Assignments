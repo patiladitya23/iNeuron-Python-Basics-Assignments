{
  "nbformat": 4,
  "nbformat_minor": 0,
  "metadata": {
    "colab": {
      "provenance": []
    },
    "kernelspec": {
      "name": "python3",
      "display_name": "Python 3"
    },
    "language_info": {
      "name": "python"
    }
  },
  "cells": [
    {
      "cell_type": "markdown",
      "source": [
        "# 1. What does an empty dictionary&#39;s code look like?\n",
        "\n",
        "*   d = { }\n",
        "*   f = dict()\n",
        "\n"
      ],
      "metadata": {
        "id": "zQK4IEFKBfBg"
      }
    },
    {
      "cell_type": "code",
      "execution_count": 3,
      "metadata": {
        "colab": {
          "base_uri": "https://localhost:8080/"
        },
        "id": "xkliMBQGBUeO",
        "outputId": "bb228fbd-3fed-47d7-c168-130042502531"
      },
      "outputs": [
        {
          "output_type": "stream",
          "name": "stdout",
          "text": [
            "<class 'dict'>\n",
            "<class 'dict'>\n"
          ]
        }
      ],
      "source": [
        "d = {}\n",
        "print(type(d))\n",
        "\n",
        "f = dict()\n",
        "print(type(f))"
      ]
    },
    {
      "cell_type": "markdown",
      "source": [
        "# 2. What is the value of a dictionary value with the key &#39;foo&#39; and the value 42?\n",
        "\n",
        "*   { 'foo' : '42' }\n",
        "\n"
      ],
      "metadata": {
        "id": "CKglQkl9BzIu"
      }
    },
    {
      "cell_type": "markdown",
      "source": [
        "# 3. What is the most significant distinction between a dictionary and a list?\n",
        "\n",
        "*   Dictionary are represented by '{ }' and list are represented by '[ ]'\n",
        "*   Elements in dictionary are unordered where as elements in list are ordered\n",
        "\n"
      ],
      "metadata": {
        "id": "UKy3oL8QCSuL"
      }
    },
    {
      "cell_type": "markdown",
      "source": [
        "# 4. What happens if you try to access spam[&#39;foo&#39;] if spam is {&#39;bar&#39;: 100}?\n",
        "\n",
        "*   It shows the key error.\n",
        "\n"
      ],
      "metadata": {
        "id": "l4UILc6vDAUx"
      }
    },
    {
      "cell_type": "code",
      "source": [
        "spam = {'bar' : '100'}\n",
        "spam['foo']"
      ],
      "metadata": {
        "colab": {
          "base_uri": "https://localhost:8080/",
          "height": 183
        },
        "id": "iuWeNeZMDHEW",
        "outputId": "ac7e4e1b-b7d1-4f82-e726-e6ef97c8ee49"
      },
      "execution_count": 9,
      "outputs": [
        {
          "output_type": "error",
          "ename": "KeyError",
          "evalue": "ignored",
          "traceback": [
            "\u001b[0;31m---------------------------------------------------------------------------\u001b[0m",
            "\u001b[0;31mKeyError\u001b[0m                                  Traceback (most recent call last)",
            "\u001b[0;32m<ipython-input-9-7e4af90c5ad3>\u001b[0m in \u001b[0;36m<module>\u001b[0;34m\u001b[0m\n\u001b[1;32m      1\u001b[0m \u001b[0mspam\u001b[0m \u001b[0;34m=\u001b[0m \u001b[0;34m{\u001b[0m\u001b[0;34m'bar'\u001b[0m \u001b[0;34m:\u001b[0m \u001b[0;34m'100'\u001b[0m\u001b[0;34m}\u001b[0m\u001b[0;34m\u001b[0m\u001b[0;34m\u001b[0m\u001b[0m\n\u001b[0;32m----> 2\u001b[0;31m \u001b[0mspam\u001b[0m\u001b[0;34m[\u001b[0m\u001b[0;34m'foo'\u001b[0m\u001b[0;34m]\u001b[0m\u001b[0;34m\u001b[0m\u001b[0;34m\u001b[0m\u001b[0m\n\u001b[0m",
            "\u001b[0;31mKeyError\u001b[0m: 'foo'"
          ]
        }
      ]
    },
    {
      "cell_type": "markdown",
      "source": [
        "# 5. If a dictionary is stored in spam, what is the difference between the expressions &#39;cat&#39; in spam and &#39;cat&#39; in spam.keys()?\n",
        "\n",
        "*   'cat' in spam will give us the value of the key 'cat' if present in dictionary.\n",
        "*   'cat' in spam.keys() checks if the 'cat' is present in the dictionary spam or not.\n",
        "\n",
        "\n"
      ],
      "metadata": {
        "id": "jg1FNjIADyAH"
      }
    },
    {
      "cell_type": "markdown",
      "source": [
        "# 6. If a dictionary is stored in spam, what is the difference between the expressions &#39;cat&#39; in spam and &#39;cat&#39; in spam.values()?\n",
        "\n",
        "*   'cat' in spam checks if the 'cat' key is present in dictionary or not.\n",
        "*   'cat' in spam.values checks if the 'cat' is present in values of spam dictionary or not.\n",
        "\n"
      ],
      "metadata": {
        "id": "8cf1CIbtEypK"
      }
    },
    {
      "cell_type": "markdown",
      "source": [
        "# 7. What is a shortcut for the following code? if &#39;color&#39; not in spam: spam[&#39;color&#39;] = &#39;black&#39;\n",
        "\n",
        "*   spam.setdault('color','black')\n",
        "\n"
      ],
      "metadata": {
        "id": "353JKvh0GEwD"
      }
    },
    {
      "cell_type": "markdown",
      "source": [
        "# 8. How do you &quot;pretty print&quot; dictionary values using which module and function?\n",
        "\n",
        "*    We can \"pretty print\" dictionary values using pprint module\n",
        "*    Function used is pprint()\n",
        "\n"
      ],
      "metadata": {
        "id": "hoFIioXZHMDD"
      }
    },
    {
      "cell_type": "code",
      "source": [
        "import pprint\n",
        "\n",
        "test_dict = {'roll_no':'4', 'name':'john', 'class_attended':['math','science','physics']}\n",
        "\n",
        "pprint.pprint(test_dict)"
      ],
      "metadata": {
        "colab": {
          "base_uri": "https://localhost:8080/"
        },
        "id": "fyzHLV98HOJh",
        "outputId": "dab01116-6d15-4f35-a625-0aab7058843e"
      },
      "execution_count": 11,
      "outputs": [
        {
          "output_type": "stream",
          "name": "stdout",
          "text": [
            "{'class_attended': ['math', 'science', 'physics'],\n",
            " 'name': 'john',\n",
            " 'roll_no': '4'}\n"
          ]
        }
      ]
    }
  ]
}