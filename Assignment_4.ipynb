{
  "nbformat": 4,
  "nbformat_minor": 0,
  "metadata": {
    "colab": {
      "provenance": []
    },
    "kernelspec": {
      "name": "python3",
      "display_name": "Python 3"
    },
    "language_info": {
      "name": "python"
    }
  },
  "cells": [
    {
      "cell_type": "markdown",
      "source": [
        "# 1. What exactly is [ ]?\n",
        "\n",
        "\n",
        "*   \"[ ]\" is used to define list in python.\n",
        "\n"
      ],
      "metadata": {
        "id": "_rq4QQeOUNV5"
      }
    },
    {
      "cell_type": "markdown",
      "source": [
        "# 2. In a list of values stored in a variable called spam, how would you assign the value &#39;hello&#39; as the third value? (Assume [2, 4, 6, 8, 10] are in spam.)\n",
        "\n",
        "\n",
        "*   we can assign any value to any position in list by using index.\n",
        "\n"
      ],
      "metadata": {
        "id": "CeNTkaPQUuln"
      }
    },
    {
      "cell_type": "code",
      "execution_count": null,
      "metadata": {
        "colab": {
          "base_uri": "https://localhost:8080/"
        },
        "id": "crnNhqbNUH3J",
        "outputId": "dcd4cbb0-d761-47ee-a0c2-e474c6556831"
      },
      "outputs": [
        {
          "output_type": "execute_result",
          "data": {
            "text/plain": [
              "[2, 4, 'hello', 8, 10]"
            ]
          },
          "metadata": {},
          "execution_count": 1
        }
      ],
      "source": [
        "spam = [2, 4, 6, 8, 10]\n",
        "spam[2] = \"hello\"\n",
        "spam"
      ]
    },
    {
      "cell_type": "markdown",
      "source": [
        "# Let&#39;s pretend the spam includes the list [&#39;a&#39;, &#39;b&#39;, &#39;c&#39;, &#39;d&#39;] for the next three queries."
      ],
      "metadata": {
        "id": "e1OoTm5mWQe4"
      }
    },
    {
      "cell_type": "markdown",
      "source": [
        "# 3. What is the value of spam[int(int(&#39;3&#39; * 2) / 11)]?"
      ],
      "metadata": {
        "id": "y3Uj5AAPWWpN"
      }
    },
    {
      "cell_type": "code",
      "source": [
        "spam = ['a','b','c','d']\n",
        "spam[int(int('3' * 2) / 11)]"
      ],
      "metadata": {
        "colab": {
          "base_uri": "https://localhost:8080/",
          "height": 35
        },
        "id": "YAFTX7YpWagk",
        "outputId": "34cdd269-ad10-4db3-b1fc-418e3f604622"
      },
      "execution_count": null,
      "outputs": [
        {
          "output_type": "execute_result",
          "data": {
            "text/plain": [
              "'d'"
            ],
            "application/vnd.google.colaboratory.intrinsic+json": {
              "type": "string"
            }
          },
          "metadata": {},
          "execution_count": 2
        }
      ]
    },
    {
      "cell_type": "markdown",
      "source": [
        "# 4. What is the value of spam[-1]?"
      ],
      "metadata": {
        "id": "t7dxzsheW_bA"
      }
    },
    {
      "cell_type": "code",
      "source": [
        "spam[-1]"
      ],
      "metadata": {
        "colab": {
          "base_uri": "https://localhost:8080/",
          "height": 35
        },
        "id": "N5Mcq9oZW9mR",
        "outputId": "c704316b-b47a-44f1-e233-7455bf4f1774"
      },
      "execution_count": null,
      "outputs": [
        {
          "output_type": "execute_result",
          "data": {
            "text/plain": [
              "'d'"
            ],
            "application/vnd.google.colaboratory.intrinsic+json": {
              "type": "string"
            }
          },
          "metadata": {},
          "execution_count": 3
        }
      ]
    },
    {
      "cell_type": "markdown",
      "source": [
        "# 5. What is the value of spam[:2]?"
      ],
      "metadata": {
        "id": "Agrii-tZXGKI"
      }
    },
    {
      "cell_type": "code",
      "source": [
        "spam[:2]"
      ],
      "metadata": {
        "colab": {
          "base_uri": "https://localhost:8080/"
        },
        "id": "ge5jkJObXH8U",
        "outputId": "2bc5feb1-9a77-440b-86e5-97e36e0eed5c"
      },
      "execution_count": null,
      "outputs": [
        {
          "output_type": "execute_result",
          "data": {
            "text/plain": [
              "['a', 'b']"
            ]
          },
          "metadata": {},
          "execution_count": 4
        }
      ]
    },
    {
      "cell_type": "markdown",
      "source": [
        "# Let&#39;s pretend bacon has the list [3.14, &#39;cat,&#39; 11, &#39;cat,&#39; True] for the next three questions."
      ],
      "metadata": {
        "id": "Qj4yZKIzXMA2"
      }
    },
    {
      "cell_type": "markdown",
      "source": [
        "# 6. What is the value of bacon.index(&#39;cat&#39;)?"
      ],
      "metadata": {
        "id": "ZR9JJB3jXQLc"
      }
    },
    {
      "cell_type": "code",
      "source": [
        "bacon = [3.14, 'cat', 11, 'cat', True]\n",
        "bacon.index('cat')  #it gives us the index of the first occurence of 'cat'"
      ],
      "metadata": {
        "colab": {
          "base_uri": "https://localhost:8080/"
        },
        "id": "v0qVr1ZwXWxk",
        "outputId": "4016c1a7-f2fc-4250-a3df-fd2b4fe3f9e4"
      },
      "execution_count": null,
      "outputs": [
        {
          "output_type": "execute_result",
          "data": {
            "text/plain": [
              "1"
            ]
          },
          "metadata": {},
          "execution_count": 8
        }
      ]
    },
    {
      "cell_type": "markdown",
      "source": [
        "# 7. How does bacon.append(99) change the look of the list value in bacon?"
      ],
      "metadata": {
        "id": "NGAiVVcaX64m"
      }
    },
    {
      "cell_type": "code",
      "source": [
        "#it will baiscally add the '99' as the end of the list as element of the list.\n",
        "bacon.append(99)\n",
        "bacon"
      ],
      "metadata": {
        "colab": {
          "base_uri": "https://localhost:8080/"
        },
        "id": "6PFgW-ZWX-Q6",
        "outputId": "8e877913-b2ae-46bc-ca97-d094795d1589"
      },
      "execution_count": null,
      "outputs": [
        {
          "output_type": "execute_result",
          "data": {
            "text/plain": [
              "[3.14, 'cat', 11, 'cat', True, 99, 99]"
            ]
          },
          "metadata": {},
          "execution_count": 10
        }
      ]
    },
    {
      "cell_type": "markdown",
      "source": [
        "# 8. How does bacon.remove(&#39;cat&#39;) change the look of the list in bacon?"
      ],
      "metadata": {
        "id": "LFWpjP0DYXkD"
      }
    },
    {
      "cell_type": "code",
      "source": [
        "# it removes the first occured element specified.\n",
        "bacon.remove('cat')\n",
        "bacon"
      ],
      "metadata": {
        "colab": {
          "base_uri": "https://localhost:8080/"
        },
        "id": "BzE_q7xMYc_M",
        "outputId": "c92aa39a-7b6d-4494-812d-cd9992dccf13"
      },
      "execution_count": null,
      "outputs": [
        {
          "output_type": "execute_result",
          "data": {
            "text/plain": [
              "[3.14, 11, True, 99, 99]"
            ]
          },
          "metadata": {},
          "execution_count": 12
        }
      ]
    },
    {
      "cell_type": "markdown",
      "source": [
        "# 9. What are the list concatenation and list replication operators?\n",
        "\n",
        "\n",
        "*   We use addition operator (+) as the concatenation operator for the list.\n",
        "*   We use multiplication operator (*) as the replication operator for the list.\n",
        "\n"
      ],
      "metadata": {
        "id": "EoFB6HM_Y6Tj"
      }
    },
    {
      "cell_type": "code",
      "source": [
        "l = ['q','w']\n",
        "s = ['d']\n",
        "print(l+s) #concatenation of the list\n",
        "print(l*3) #replication of the list"
      ],
      "metadata": {
        "colab": {
          "base_uri": "https://localhost:8080/"
        },
        "id": "HLTMIjMVZF1u",
        "outputId": "0120fbb2-d10e-4371-e8e8-62902de92779"
      },
      "execution_count": null,
      "outputs": [
        {
          "output_type": "stream",
          "name": "stdout",
          "text": [
            "['q', 'w', 'd']\n",
            "['q', 'w', 'q', 'w', 'q', 'w']\n"
          ]
        }
      ]
    },
    {
      "cell_type": "markdown",
      "source": [
        "# 10. What is difference between the list methods append() and insert()?\n",
        "\n",
        "*   append() : This method is used to add element in the list at the end of the list.\n",
        "*   insert() : This methos is used to add element in the list at the specific position\n",
        "\n"
      ],
      "metadata": {
        "id": "CFoWqlmdaDrr"
      }
    },
    {
      "cell_type": "code",
      "source": [
        "a = [1,2,'a','b']\n",
        "a.append(3) # adds element in the end of the list\n",
        "print(a)\n",
        "a.insert(0,'hello') # adds element 'hello' at the 0th index position\n",
        "print(a)"
      ],
      "metadata": {
        "colab": {
          "base_uri": "https://localhost:8080/"
        },
        "id": "sSqQ3iEIawnX",
        "outputId": "7b12e161-a10f-409c-86b7-48516b6aca69"
      },
      "execution_count": null,
      "outputs": [
        {
          "output_type": "stream",
          "name": "stdout",
          "text": [
            "[1, 2, 'a', 'b', 3]\n",
            "['hello', 1, 2, 'a', 'b', 3]\n"
          ]
        }
      ]
    },
    {
      "cell_type": "markdown",
      "source": [
        "# 11. What are the two methods for removing items from a list?\n",
        "\n",
        "\n",
        "*   remove method : It removes the first occruing element.\n",
        "*   pop method : It removes the element at specified posistion.\n",
        "*   We can also use \"del\" method to remove the element from the list\n",
        "\n"
      ],
      "metadata": {
        "id": "09HslX2CYBka"
      }
    },
    {
      "cell_type": "code",
      "source": [
        "#ex\n",
        "p = [1,2,3,2,5.5,'a']\n",
        "print(p)\n",
        "\n",
        "p.remove(2) #removeing first occurance of 2\n",
        "print(p)\n",
        "\n",
        "p.pop() #pop method without argument pops out the last element from the list\n",
        "print(p) \n",
        "p.pop(0) #pop method with argument pops out element positioned at the specified index.\n",
        "print(p)\n",
        "\n",
        "del p[1] \n",
        "print(p)"
      ],
      "metadata": {
        "colab": {
          "base_uri": "https://localhost:8080/"
        },
        "id": "aoW8INjlYn0n",
        "outputId": "06c458b9-3583-4eef-f463-fcfac8ed9e7f"
      },
      "execution_count": 5,
      "outputs": [
        {
          "output_type": "stream",
          "name": "stdout",
          "text": [
            "[1, 2, 3, 2, 5.5, 'a']\n",
            "[1, 3, 2, 5.5, 'a']\n",
            "[1, 3, 2, 5.5]\n",
            "[3, 2, 5.5]\n",
            "[3, 5.5]\n"
          ]
        }
      ]
    },
    {
      "cell_type": "markdown",
      "source": [
        "# 12. Describe how list values and string values are identical.\n",
        "\n",
        "\n",
        "*   List values and string values are identical because we can access the elements of the both string and list using the index numbers."
      ],
      "metadata": {
        "id": "1tC_PkgYZ6Us"
      }
    },
    {
      "cell_type": "markdown",
      "source": [
        "# 13. What&#39;s the difference between tuples and lists?\n",
        "*   List is mutable and tuples are immutable.\n",
        "*   List are denoted with \"[ ]\" and tuples are denoted using \"( )\".\n",
        "\n",
        "\n"
      ],
      "metadata": {
        "id": "bzIdOZNTaL2o"
      }
    },
    {
      "cell_type": "markdown",
      "source": [
        "# 14. How do you type a tuple value that only contains the integer 42?\n",
        "\n",
        "\n",
        "*   We can type tuple with integer 43 as (42,)   "
      ],
      "metadata": {
        "id": "J2sCa8H7a7U3"
      }
    },
    {
      "cell_type": "code",
      "source": [
        "c = (42)   #incorrect way\n",
        "print (c)\n",
        "print (type(c))\n",
        "\n",
        "d = (42,)  #correct way\n",
        "print (d)\n",
        "print (type(d))"
      ],
      "metadata": {
        "colab": {
          "base_uri": "https://localhost:8080/"
        },
        "id": "kKimqxXiAFNr",
        "outputId": "627cb1ec-bf7c-4e1c-a82e-11e8d5758a46"
      },
      "execution_count": 1,
      "outputs": [
        {
          "output_type": "stream",
          "name": "stdout",
          "text": [
            "42\n",
            "<class 'int'>\n",
            "(42,)\n",
            "<class 'tuple'>\n"
          ]
        }
      ]
    },
    {
      "cell_type": "markdown",
      "source": [
        "## 15. How do you get a list value&#39;s tuple form? How do you get a tuple value&#39;s list form?\n",
        "*   We can get list value's tuple form by using list().\n",
        "*   We can get tuple value's list form by using tuple().\n",
        "\n"
      ],
      "metadata": {
        "id": "gjxmrerjAiwK"
      }
    },
    {
      "cell_type": "markdown",
      "source": [
        "# 16. Variables that &quot;contain&quot; list values are not necessarily lists themselves. Instead, what do they contain?\n",
        "*   Variables that contain list values contain references.\n",
        "\n",
        "\n"
      ],
      "metadata": {
        "id": "Zll8yDN-BGxv"
      }
    },
    {
      "cell_type": "markdown",
      "source": [
        "# 17. How do you distinguish between copy.copy() and copy.deepcopy()?\n",
        "\n",
        "*    The copy() returns a shallow copy of the list, and deepcopy() returns a deep copy of the list.\n",
        "\n"
      ],
      "metadata": {
        "id": "-RkmiRpWB27j"
      }
    },
    {
      "cell_type": "code",
      "source": [
        "import copy\n",
        "\n",
        "z = [1,2,3]\n",
        "\n",
        "z1 = copy.copy(z)\n",
        "print(id(z1),\":\",z1)\n",
        "\n",
        "z2 = copy.deepcopy(z)\n",
        "print(id(z2),\":\",z2)"
      ],
      "metadata": {
        "colab": {
          "base_uri": "https://localhost:8080/"
        },
        "id": "akdtQlYMCUha",
        "outputId": "cc8147ba-676e-4f6f-afa4-3dd135847c86"
      },
      "execution_count": 3,
      "outputs": [
        {
          "output_type": "stream",
          "name": "stdout",
          "text": [
            "139898274818816 : [1, 2, 3]\n",
            "139898205327168 : [1, 2, 3]\n"
          ]
        }
      ]
    }
  ]
}