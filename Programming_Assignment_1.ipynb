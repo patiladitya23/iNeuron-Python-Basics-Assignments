{
  "nbformat": 4,
  "nbformat_minor": 0,
  "metadata": {
    "colab": {
      "provenance": []
    },
    "kernelspec": {
      "name": "python3",
      "display_name": "Python 3"
    },
    "language_info": {
      "name": "python"
    }
  },
  "cells": [
    {
      "cell_type": "markdown",
      "source": [
        "#1. Write a Python program to print \"Hello Python\"."
      ],
      "metadata": {
        "id": "8H0A-IL10o7r"
      }
    },
    {
      "cell_type": "code",
      "execution_count": 1,
      "metadata": {
        "colab": {
          "base_uri": "https://localhost:8080/"
        },
        "id": "FiaskKwQ0kw5",
        "outputId": "d9715635-fd12-4f69-a563-15d4c4884f11"
      },
      "outputs": [
        {
          "output_type": "stream",
          "name": "stdout",
          "text": [
            "Hello Python\n"
          ]
        }
      ],
      "source": [
        "print(\"Hello Python\")"
      ]
    },
    {
      "cell_type": "markdown",
      "source": [
        "#2. Write a Python program to do arithmetical operations addition and division.?"
      ],
      "metadata": {
        "id": "6Legw_LS04ls"
      }
    },
    {
      "cell_type": "code",
      "source": [
        "a = float(input(\"Enter First Number: \"))\n",
        "b = input('Enter the operation \"+\" or \"/\": ')\n",
        "c = float(input(\"Enter the Second Number: \"))\n",
        "if b == \"+\":\n",
        "  print(f\"Addition of {a} and {c} is: {a+c}\")\n",
        "elif b == \"/\":\n",
        "  print(f\"Dvision of {a} and {c} is: {a/c}\")\n",
        "else:\n",
        "  print(\"Invalid Input\")\n"
      ],
      "metadata": {
        "colab": {
          "base_uri": "https://localhost:8080/"
        },
        "id": "sPqMSVta06yL",
        "outputId": "738615dd-701f-4853-abbf-016bf586c137"
      },
      "execution_count": 15,
      "outputs": [
        {
          "output_type": "stream",
          "name": "stdout",
          "text": [
            "Enter First Number: 2\n",
            "Enter the operation \"+\" or \"/\": +\n",
            "Enter the Second Number: 2\n",
            "Addition of 2.0 and 2.0 is: 4.0\n"
          ]
        }
      ]
    },
    {
      "cell_type": "markdown",
      "source": [
        "#3. Write a Python program to find the area of a triangle?"
      ],
      "metadata": {
        "id": "cpuEWzhC3Q7f"
      }
    },
    {
      "cell_type": "code",
      "source": [
        "base = float(input(\"Enter the base lenght of triangle in cm: \"))\n",
        "height = float(input(\"Enter the perpendicular height of triangle in cm: \"))\n",
        "\n",
        "area = (base*height)/2\n",
        "print(f\"Area of Triangle is: {area}cmsq.\")"
      ],
      "metadata": {
        "colab": {
          "base_uri": "https://localhost:8080/"
        },
        "id": "qO3hzZAQ3SJp",
        "outputId": "b66728fa-440d-4179-bc7e-48a1e643327b"
      },
      "execution_count": 9,
      "outputs": [
        {
          "output_type": "stream",
          "name": "stdout",
          "text": [
            "Enter the base lenght of triangle in cm: 4\n",
            "Enter the perpendicular height of triangle in cm: 8\n",
            "Area of Triangle is: 16.0cmsq.\n"
          ]
        }
      ]
    },
    {
      "cell_type": "markdown",
      "source": [
        "#4. Write a Python program to swap two variables?"
      ],
      "metadata": {
        "id": "zsTpa-qf4fPa"
      }
    },
    {
      "cell_type": "code",
      "source": [
        "a, b = 1, 2\n",
        "\n",
        "print(f\"Value of A before swaping: {a}\")\n",
        "print(f\"Value of B before swaping: {b}\")\n",
        "\n",
        "temp = a\n",
        "a = b\n",
        "b =  temp\n",
        "\n",
        "print(f\"Value of A after swaping: {a}\")\n",
        "print(f\"Value of B after swaping: {b}\")"
      ],
      "metadata": {
        "colab": {
          "base_uri": "https://localhost:8080/"
        },
        "id": "o9TWG_mC4e7i",
        "outputId": "c78a82a2-6523-4cfd-e072-d00701715cb3"
      },
      "execution_count": 17,
      "outputs": [
        {
          "output_type": "stream",
          "name": "stdout",
          "text": [
            "Value of A before swaping: 1\n",
            "Value of B before swaping: 2\n",
            "Value of A after swaping: 2\n",
            "Value of B after swaping: 1\n"
          ]
        }
      ]
    },
    {
      "cell_type": "markdown",
      "source": [
        "#5. Write a Python program to generate a random number?"
      ],
      "metadata": {
        "id": "r6dHJdFr6BP5"
      }
    },
    {
      "cell_type": "code",
      "source": [
        "import random\n",
        "a = input('Enter \"Y\" to generate randon number or \"N\" to not to generate number: ')\n",
        "if a==\"Y\":\n",
        "  print(random.random())"
      ],
      "metadata": {
        "colab": {
          "base_uri": "https://localhost:8080/"
        },
        "id": "Mvsplgpu6Ckx",
        "outputId": "d2253f19-4f1b-45c1-e00b-26004dde8c6e"
      },
      "execution_count": 21,
      "outputs": [
        {
          "output_type": "stream",
          "name": "stdout",
          "text": [
            "Enter \"Y\" to generate randon number or \"N\" to not to generate number: Y\n",
            "0.6545157254492312\n"
          ]
        }
      ]
    }
  ]
}