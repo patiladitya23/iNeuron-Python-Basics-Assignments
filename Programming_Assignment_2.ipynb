{
  "nbformat": 4,
  "nbformat_minor": 0,
  "metadata": {
    "colab": {
      "provenance": [],
      "collapsed_sections": []
    },
    "kernelspec": {
      "name": "python3",
      "display_name": "Python 3"
    },
    "language_info": {
      "name": "python"
    }
  },
  "cells": [
    {
      "cell_type": "markdown",
      "source": [
        "#1. Write a Python program to convert kilometers to miles?"
      ],
      "metadata": {
        "id": "4uIRvnap_Ji-"
      }
    },
    {
      "cell_type": "code",
      "execution_count": null,
      "metadata": {
        "colab": {
          "base_uri": "https://localhost:8080/"
        },
        "id": "A3VQzjPQ_FG0",
        "outputId": "fe54c8a6-fc57-4235-e461-cb32a8cd4624"
      },
      "outputs": [
        {
          "output_type": "stream",
          "name": "stdout",
          "text": [
            "Enter values in kms to convert in miles: 2\n",
            "2.0 kilometer = 1.242742 miles\n"
          ]
        }
      ],
      "source": [
        "a = float(input(\"Enter values in kms to convert in miles: \"))\n",
        "miles = a*0.621371\n",
        "print(f'{a} kilometer = {miles} miles')"
      ]
    },
    {
      "cell_type": "markdown",
      "source": [
        "#2. Write a Python program to convert Celsius to Fahrenheit?"
      ],
      "metadata": {
        "id": "TlX93EPKAhBs"
      }
    },
    {
      "cell_type": "code",
      "source": [
        "a = float(input(\"Enter value in Celsius to convert into Fahranheit: \"))\n",
        "fahranheit = (a*9/5)+32\n",
        "print(f'{a} celsius = {fahranheit} fahranheit')"
      ],
      "metadata": {
        "colab": {
          "base_uri": "https://localhost:8080/"
        },
        "id": "NysowFcoAllA",
        "outputId": "3dc0a5b2-dc56-4ec6-f76d-a2635646a9c3"
      },
      "execution_count": null,
      "outputs": [
        {
          "output_type": "stream",
          "name": "stdout",
          "text": [
            "Enter value in Celsius to convert into Fahranheit: 0\n",
            "0.0 celsius = 32.0 fahranheit\n"
          ]
        }
      ]
    },
    {
      "cell_type": "markdown",
      "source": [
        "#3. Write a Python program to display calendar?"
      ],
      "metadata": {
        "id": "akj8r9qmBm0K"
      }
    },
    {
      "cell_type": "code",
      "source": [
        "import calendar\n",
        "y = int(input(\"Enter Year (format:yyyy): \"))\n",
        "m = int(input(\"Enter Month (format: in numbers): \"))\n",
        "print(calendar.month(y,m))"
      ],
      "metadata": {
        "colab": {
          "base_uri": "https://localhost:8080/"
        },
        "id": "Cw_dPcjWBrG4",
        "outputId": "4f89f0f0-ece7-4087-c053-247659ea0635"
      },
      "execution_count": null,
      "outputs": [
        {
          "output_type": "stream",
          "name": "stdout",
          "text": [
            "Enter Year (format:yyyy): 1997\n",
            "Enter Month (format: in numbers): 3\n",
            "     March 1997\n",
            "Mo Tu We Th Fr Sa Su\n",
            "                1  2\n",
            " 3  4  5  6  7  8  9\n",
            "10 11 12 13 14 15 16\n",
            "17 18 19 20 21 22 23\n",
            "24 25 26 27 28 29 30\n",
            "31\n",
            "\n"
          ]
        }
      ]
    },
    {
      "cell_type": "markdown",
      "source": [
        "#4. Write a Python program to solve quadratic equation?"
      ],
      "metadata": {
        "id": "kqxGDDKQFJSC"
      }
    },
    {
      "cell_type": "code",
      "source": [
        "a = float(input(\"Enter value of A: \"))\n",
        "b = float(input(\"Enter value of B: \"))\n",
        "c = float(input(\"Enter value of C: \"))\n",
        "\n",
        "d = b*b-4*a*c\n",
        "d = d**0.5\n",
        "\n",
        "if d>0:\n",
        "  print(\"roots are real and distinct (unequal)\")\n",
        "  print(f\"Alpha: {(-b+d)/(2*a)} & Beta: {(-b-d)/(2*a)}\")\n",
        "\n",
        "elif d==0:\n",
        "   print(\"roots are real and equal (coincident)\")\n",
        "   print(f\"Alpha: {(-b+d)/(2*a)} & Beta: {(-b-d)/(2*a)}\")\n",
        "  \n",
        "elif d<0:\n",
        "  print(\"roots are real and equal (coincident)\")\n",
        "  print(f\"Alpha: {(-b+d)/(2*a)} & Beta: {(-b-d)/(2*a)}\")\n",
        "\n",
        "else:\n",
        "  print(\"roots are complex\")\n",
        "  print(f\"Alpha: {(-b+d)/(2*a)} & Beta: {(-b-d)/(2*a)}\")"
      ],
      "metadata": {
        "colab": {
          "base_uri": "https://localhost:8080/"
        },
        "id": "Ui0DqriO5l4g",
        "outputId": "3d2fdbc8-cf51-487b-c650-96bc3b5d80fe"
      },
      "execution_count": 10,
      "outputs": [
        {
          "output_type": "stream",
          "name": "stdout",
          "text": [
            "Enter value of A: 1\n",
            "Enter value of B: 10\n",
            "Enter value of C: -24\n",
            "roots are real and distinct (unequal)\n",
            "Alpha: 2.0 & Beta: -12.0\n"
          ]
        }
      ]
    },
    {
      "cell_type": "markdown",
      "source": [
        "#5. Write a Python program to swap two variables without temp variable?"
      ],
      "metadata": {
        "id": "bD1Z_qW_6_51"
      }
    },
    {
      "cell_type": "code",
      "source": [
        "a = 1\n",
        "b = 2\n",
        "print(f'Value of \"a\" before swaping: {a}')\n",
        "print(f'Value of \"b\" before swaping: {b}')\n",
        "print(f'Value of \"a\" after swaping: {a+b-a}')\n",
        "print(f'Value of \"b\" before swaping: {a+b-b}')"
      ],
      "metadata": {
        "colab": {
          "base_uri": "https://localhost:8080/"
        },
        "id": "07k2ElgB7BDn",
        "outputId": "dde5091b-fde2-46a1-b780-c5760f951e3c"
      },
      "execution_count": 11,
      "outputs": [
        {
          "output_type": "stream",
          "name": "stdout",
          "text": [
            "Value of \"a\" before swaping: 1\n",
            "Value of \"b\" before swaping: 2\n",
            "Value of \"a\" after swaping: 2\n",
            "Value of \"b\" before swaping: 1\n"
          ]
        }
      ]
    }
  ]
}