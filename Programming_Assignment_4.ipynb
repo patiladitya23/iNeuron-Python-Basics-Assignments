{
  "nbformat": 4,
  "nbformat_minor": 0,
  "metadata": {
    "colab": {
      "provenance": []
    },
    "kernelspec": {
      "name": "python3",
      "display_name": "Python 3"
    },
    "language_info": {
      "name": "python"
    }
  },
  "cells": [
    {
      "cell_type": "markdown",
      "source": [
        "#1. Write a Python Program to Find the Factorial of a Number?"
      ],
      "metadata": {
        "id": "AQbDDzfdbdjF"
      }
    },
    {
      "cell_type": "code",
      "execution_count": 1,
      "metadata": {
        "colab": {
          "base_uri": "https://localhost:8080/"
        },
        "id": "o-p6DKVpbY3i",
        "outputId": "3d6196d8-2dab-4b72-9cfb-9e57ab95fb33"
      },
      "outputs": [
        {
          "output_type": "stream",
          "name": "stdout",
          "text": [
            "Enter the number: 5\n",
            "120\n"
          ]
        }
      ],
      "source": [
        "n = int(input(\"Enter the number: \"))\n",
        "result = 1\n",
        "for i in range(1,n+1):\n",
        "  result = result*i\n",
        "print(result)\n"
      ]
    },
    {
      "cell_type": "markdown",
      "source": [
        "#2. Write a Python Program to Display the multiplication Table?"
      ],
      "metadata": {
        "id": "-6eDSYdOb_qz"
      }
    },
    {
      "cell_type": "code",
      "source": [
        "n = int(input(\"Which multiplication table do you want ?: \"))\n",
        "for i in range(1,10+1):\n",
        "  result = n*i\n",
        "  print(f\"{n} X {i} = {result}\")\n"
      ],
      "metadata": {
        "colab": {
          "base_uri": "https://localhost:8080/"
        },
        "id": "_5JzL2SrcDGU",
        "outputId": "a7c13149-10f5-4a80-fb7d-bcbcb2d1cd51"
      },
      "execution_count": 17,
      "outputs": [
        {
          "output_type": "stream",
          "name": "stdout",
          "text": [
            "Which multiplication table do you want ?: 12\n",
            "12 X 1 = 12\n",
            "12 X 2 = 24\n",
            "12 X 3 = 36\n",
            "12 X 4 = 48\n",
            "12 X 5 = 60\n",
            "12 X 6 = 72\n",
            "12 X 7 = 84\n",
            "12 X 8 = 96\n",
            "12 X 9 = 108\n",
            "12 X 10 = 120\n"
          ]
        }
      ]
    },
    {
      "cell_type": "markdown",
      "source": [
        "#3. Write a Python Program to Print the Fibonacci sequence?"
      ],
      "metadata": {
        "id": "2zXRwGNZc-TQ"
      }
    },
    {
      "cell_type": "code",
      "source": [
        "n = int(input(\"Enter the number of terms: \"))\n",
        "a = 0\n",
        "b = 1\n",
        "if n<=0:\n",
        "  print(\"Enter positive integers\")\n",
        "else:\n",
        "  print(a)\n",
        "  print(b)\n",
        "  for i in range(0,n-2):\n",
        "    c = a+b\n",
        "    print(c)\n",
        "    a=b\n",
        "    b=c\n"
      ],
      "metadata": {
        "colab": {
          "base_uri": "https://localhost:8080/"
        },
        "id": "4PHnLbE_dBLR",
        "outputId": "b783884f-7043-4e94-b38f-28dd13cfbeb1"
      },
      "execution_count": 13,
      "outputs": [
        {
          "output_type": "stream",
          "name": "stdout",
          "text": [
            "Enter the number of terms: 5\n",
            "0\n",
            "1\n",
            "1\n",
            "2\n",
            "3\n"
          ]
        }
      ]
    },
    {
      "cell_type": "markdown",
      "source": [
        "#4. Write a Python Program to Check Armstrong Number?"
      ],
      "metadata": {
        "id": "J1xiLeJ-h9yL"
      }
    },
    {
      "cell_type": "code",
      "source": [
        "n = int(input(\"Enter the number: \"))\n",
        "sum = 0\n",
        "temp = n\n",
        "while temp>0:\n",
        "  digit = temp%10\n",
        "  sum = sum + (digit*digit*digit)\n",
        "  temp = temp//10\n",
        "\n",
        "if sum==n:\n",
        "  print(f\"{n} is an Armstrong Number.\")\n",
        "else:\n",
        "  print(f\"{n} is not an Armstrong Number.\")\n"
      ],
      "metadata": {
        "colab": {
          "base_uri": "https://localhost:8080/"
        },
        "id": "MJZZXjIph_MC",
        "outputId": "b122a5d5-a7e7-498d-d756-a837aafe194a"
      },
      "execution_count": 22,
      "outputs": [
        {
          "output_type": "stream",
          "name": "stdout",
          "text": [
            "Enter the number: 153\n",
            "153 is an Armstrong Number.\n"
          ]
        }
      ]
    },
    {
      "cell_type": "markdown",
      "source": [
        "#5. Write a Python Program to Find Armstrong Number in an Interval?"
      ],
      "metadata": {
        "id": "XvnWNlk1mGd9"
      }
    },
    {
      "cell_type": "code",
      "source": [
        "\n",
        "for num in range(100,1000+1):\n",
        "  order = len(str(num))\n",
        "  sum=0\n",
        "  temp=num\n",
        "  while temp>0:\n",
        "    digit=temp%10\n",
        "    sum=sum+digit**order\n",
        "    temp=temp//10\n",
        "  if (sum==num):\n",
        "    print(num)"
      ],
      "metadata": {
        "colab": {
          "base_uri": "https://localhost:8080/"
        },
        "id": "8HBXgX23mGJZ",
        "outputId": "0f35d1e1-921e-4ade-9ed6-8271b93f7796"
      },
      "execution_count": 29,
      "outputs": [
        {
          "output_type": "stream",
          "name": "stdout",
          "text": [
            "153\n",
            "370\n",
            "371\n",
            "407\n"
          ]
        }
      ]
    },
    {
      "cell_type": "markdown",
      "source": [
        "#6. Write a Python Program to Find the Sum of Natural Numbers?"
      ],
      "metadata": {
        "id": "XnlhJY11pEkN"
      }
    },
    {
      "cell_type": "code",
      "source": [
        "n = int(input(\"Enter positive number: \"))\n",
        "sum = 0\n",
        "if n>0:\n",
        "  for i in range(1,n+1):\n",
        "    sum = sum+i\n",
        "  print(f\"Sum of Natural Number from 1 to {n} is: {sum}\")\n",
        "else:\n",
        "  print(\"Invalid Input.\")\n",
        "    \n",
        "    "
      ],
      "metadata": {
        "colab": {
          "base_uri": "https://localhost:8080/"
        },
        "id": "eIo59UMRpIPq",
        "outputId": "b14ea110-4eca-4aa4-d332-b316b5254d5c"
      },
      "execution_count": 37,
      "outputs": [
        {
          "output_type": "stream",
          "name": "stdout",
          "text": [
            "Enter positive number: 10\n",
            "Sum of Natural Number from 1 to 10 is: 55\n"
          ]
        }
      ]
    }
  ]
}