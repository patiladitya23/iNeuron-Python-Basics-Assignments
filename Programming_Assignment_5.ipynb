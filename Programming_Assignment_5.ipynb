{
  "nbformat": 4,
  "nbformat_minor": 0,
  "metadata": {
    "colab": {
      "provenance": [],
      "collapsed_sections": []
    },
    "kernelspec": {
      "name": "python3",
      "display_name": "Python 3"
    },
    "language_info": {
      "name": "python"
    }
  },
  "cells": [
    {
      "cell_type": "markdown",
      "source": [
        "#1. Write a Python Program to Find LCM?"
      ],
      "metadata": {
        "id": "-5Gw4wiOl3nX"
      }
    },
    {
      "cell_type": "code",
      "execution_count": null,
      "metadata": {
        "colab": {
          "base_uri": "https://localhost:8080/"
        },
        "id": "IHSYejm-geAc",
        "outputId": "cdabd5b7-e43b-465d-989a-d9d045e0ae74"
      },
      "outputs": [
        {
          "output_type": "stream",
          "name": "stdout",
          "text": [
            "Enter first number to find LCM: 7\n",
            "Enter second number to find LCM: 12\n",
            "LCM of 7 and 12 is: 84\n"
          ]
        }
      ],
      "source": [
        "x = int(input(\"Enter first number to find LCM: \"))\n",
        "y = int(input(\"Enter second number to find LCM: \"))\n",
        "if x>y:\n",
        "  max = x\n",
        "else:\n",
        "  max = y\n",
        "while True:\n",
        "  if(max%x==0 and max%y==0):\n",
        "    print(f\"LCM of {x} and {y} is: {max}\")\n",
        "    break\n",
        "  max = max+1"
      ]
    },
    {
      "cell_type": "markdown",
      "source": [
        "#2. Write a Python Program to Find HCF?"
      ],
      "metadata": {
        "id": "ctClMboBmTeW"
      }
    },
    {
      "cell_type": "code",
      "source": [
        "x = int(input(\"Enter first number to find HCF: \"))\n",
        "y = int(input(\"Enter second number to find HCF: \"))\n",
        "hcf = 1\n",
        "if x<y:\n",
        "  min = x\n",
        "else:\n",
        "  min = y\n",
        "for i in range(1,min+1):\n",
        "  if(x%i==0 and y%i==0):\n",
        "    hcf = i\n",
        "print(f\"HCF of {x} and {y} is: {hcf}\")"
      ],
      "metadata": {
        "colab": {
          "base_uri": "https://localhost:8080/"
        },
        "id": "vHwypVZ0l7LI",
        "outputId": "ef6e4799-3d76-4de4-e030-37ac929ad684"
      },
      "execution_count": null,
      "outputs": [
        {
          "output_type": "stream",
          "name": "stdout",
          "text": [
            "Enter first number to find HCF: 4\n",
            "Enter second number to find HCF: 12\n",
            "HCF of 4 and 12 is: 4\n"
          ]
        }
      ]
    },
    {
      "cell_type": "markdown",
      "source": [
        "##3. Write a Python Program to Convert Decimal to Binary, Octal and Hexadecimal?"
      ],
      "metadata": {
        "id": "kD8RHXponVsa"
      }
    },
    {
      "cell_type": "code",
      "source": [
        "n = int(input(\"Enter Number to convert to Binary, Octal, Hexadecimal: \"))\n",
        "print(f\"Conversion of {n} to Binary is: {bin(n)}\")\n",
        "print(f\"Conversion of {n} to Ocatal is: {oct(n)}\")\n",
        "print(f\"Conversion of {n} to Hexadecimal is: {hex(n)}\")"
      ],
      "metadata": {
        "colab": {
          "base_uri": "https://localhost:8080/"
        },
        "id": "gwPFaQhsr5Ax",
        "outputId": "062859e7-b499-4587-c919-17af7cff3aab"
      },
      "execution_count": 10,
      "outputs": [
        {
          "output_type": "stream",
          "name": "stdout",
          "text": [
            "Enter Number to convert to Binary, Octal, Hexadecimal: 12\n",
            "Conversion of 12 to Binary is: 0b1100\n",
            "Conversion of 12 to Ocatal is: 0o14\n",
            "Conversion of 12 to Hexadecimal is: 0xc\n"
          ]
        }
      ]
    },
    {
      "cell_type": "markdown",
      "source": [
        "#4. Write a Python Program To Find ASCII value of a character?"
      ],
      "metadata": {
        "id": "eMc7wQL0vC4d"
      }
    },
    {
      "cell_type": "code",
      "source": [
        "char = input(\"Enter the character to find its ASCII value: \")\n",
        "if len(char)>1:\n",
        "  print(\"Please enter single character\")\n",
        "else:\n",
        "  print(f\"ASCII value of {char} is: {ord(char)}\")"
      ],
      "metadata": {
        "colab": {
          "base_uri": "https://localhost:8080/"
        },
        "id": "_bLJk2veu_Ai",
        "outputId": "0a893a94-25e2-4afe-d7bb-9c24fdeafbde"
      },
      "execution_count": 12,
      "outputs": [
        {
          "output_type": "stream",
          "name": "stdout",
          "text": [
            "Enter the character to find its ASCII value: A\n",
            "ASCII value of A is: 65\n"
          ]
        }
      ]
    },
    {
      "cell_type": "markdown",
      "source": [
        "#5. Write a Python Program to Make a Simple Calculator with 4 basic mathematical operations?"
      ],
      "metadata": {
        "id": "_PzOgyNTwKvj"
      }
    },
    {
      "cell_type": "code",
      "source": [
        "x = float(input(\"Enter first number: \"))\n",
        "operation = input(\"Enter + for addition, Enter - for substration, Enter * for multiplication, Enter / for division: \")\n",
        "y = float(input(\"Enter sceond number: \"))\n",
        "if operation == \"+\":\n",
        "  print(f\"Addition of {x} and {y} is: {x+y}\")\n",
        "elif operation == \"-\":\n",
        "  print(f\"Substration of {x} and {y} is: {x-y}\")\n",
        "elif operation == \"*\":\n",
        "  print(f\"Multiplication of {x} and {y} is: {x*y}\")\n",
        "elif operation == \"/\":\n",
        "  print(f\"Divison of {x} and {y} is: {x/y}\")\n",
        "else:\n",
        "  print(\"Invalid Input !!\")"
      ],
      "metadata": {
        "colab": {
          "base_uri": "https://localhost:8080/"
        },
        "id": "KbocxOTKwMqS",
        "outputId": "1a5f7919-4d05-4d9d-e7cc-15088671527e"
      },
      "execution_count": 13,
      "outputs": [
        {
          "output_type": "stream",
          "name": "stdout",
          "text": [
            "Enter first number: 2\n",
            "Enter + for addition, Enter - for substration, Enter * for multiplication, Enter / for division: +\n",
            "Enter sceond number: 2\n",
            "Addition of 2.0 and 2.0 is: 4.0\n"
          ]
        }
      ]
    }
  ]
}