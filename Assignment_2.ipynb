{
  "nbformat": 4,
  "nbformat_minor": 0,
  "metadata": {
    "colab": {
      "provenance": [],
      "collapsed_sections": []
    },
    "kernelspec": {
      "name": "python3",
      "display_name": "Python 3"
    },
    "language_info": {
      "name": "python"
    }
  },
  "cells": [
    {
      "cell_type": "markdown",
      "source": [
        "#1.What are the two values of the Boolean data type? How do you write them?\n",
        "\n",
        "*   TRUE AND FALSE are the two values of Boolean data type."
      ],
      "metadata": {
        "id": "NAHuLjh2VHZY"
      }
    },
    {
      "cell_type": "code",
      "execution_count": null,
      "metadata": {
        "colab": {
          "base_uri": "https://localhost:8080/"
        },
        "id": "SRgtoqSiVBbY",
        "outputId": "97d1c91c-6f35-410d-f66f-7b3b0b82d0d1"
      },
      "outputs": [
        {
          "output_type": "stream",
          "name": "stdout",
          "text": [
            "True\n"
          ]
        }
      ],
      "source": [
        "x = 10\n",
        "y = 20\n",
        "print(bool(x<y))    #this is how we write them."
      ]
    },
    {
      "cell_type": "markdown",
      "source": [
        "#2. What are the three different types of Boolean operators?\n",
        "\n",
        "*   and -> requires two operands\n",
        "*   or -> requires two operands\n",
        "*   not  -> requires only one operand"
      ],
      "metadata": {
        "id": "644-yG0TWHPb"
      }
    },
    {
      "cell_type": "code",
      "source": [
        "print(5>3 and 6>5)\n",
        "print(5>10 or 10>8)\n",
        "print(not(True))"
      ],
      "metadata": {
        "colab": {
          "base_uri": "https://localhost:8080/"
        },
        "id": "IpSbH1TAXBeE",
        "outputId": "f0d435e3-cd0d-4e2b-b880-0fbeacd05dd4"
      },
      "execution_count": null,
      "outputs": [
        {
          "output_type": "stream",
          "name": "stdout",
          "text": [
            "True\n",
            "True\n",
            "False\n"
          ]
        }
      ]
    },
    {
      "cell_type": "markdown",
      "source": [
        "#3. Make a list of each Boolean operator&#39;s truth tables (i.e. every possible combination of Boolean values for the operator and what it evaluate ).\n",
        "\n"
      ],
      "metadata": {
        "id": "0KOs0RH1Xe7c"
      }
    },
    {
      "cell_type": "code",
      "source": [
        "\"\"\"\n",
        "A and B, then C is\n",
        "A  B  C\n",
        "1  1  1\n",
        "1  0  0\n",
        "0  1  0\n",
        "0  0  0\n",
        "\n",
        "A or B, then C is\n",
        "A  B  C\n",
        "1  1  1\n",
        "1  0  1\n",
        "0  1  1\n",
        "0  0  0\n",
        "\n",
        "not True = False\n",
        "not False = True\n",
        "\"\"\""
      ],
      "metadata": {
        "id": "4CT6pEy4XAJ6"
      },
      "execution_count": null,
      "outputs": []
    },
    {
      "cell_type": "markdown",
      "source": [
        "#4. What are the values of the following expressions?\n",
        "\n",
        "1.   (5 &gt; 4) and (3 == 5) -> Flase\n",
        "2.   not (5 &gt; 4) -> Flase\n",
        "3.   (5 &gt; 4) or (3 == 5) -> True\n",
        "4.   not ((5 &gt; 4) or (3 == 5)) -> Flase\n",
        "5.   (True and True) and (True == False) -> False\n",
        "6.   (not False) or (not True) -> True\n",
        "\n"
      ],
      "metadata": {
        "id": "i83pKujvWw6V"
      }
    },
    {
      "cell_type": "code",
      "source": [
        "print((5>4)and(3==5))\n",
        "print(not(5>4))\n",
        "print((5>4)or(3==5))\n",
        "print(not((5>4)or(3==5)))\n",
        "print((True and True)and(True==False))\n",
        "print((not(False)or(not True)))"
      ],
      "metadata": {
        "colab": {
          "base_uri": "https://localhost:8080/"
        },
        "id": "2gDNTAF_Z8_i",
        "outputId": "f0a0b509-1ff7-4296-e9da-38d469c4cfd5"
      },
      "execution_count": null,
      "outputs": [
        {
          "output_type": "stream",
          "name": "stdout",
          "text": [
            "False\n",
            "False\n",
            "True\n",
            "False\n",
            "False\n",
            "True\n"
          ]
        }
      ]
    },
    {
      "cell_type": "markdown",
      "source": [
        "#5. What are the six comparison operators?\n",
        "\n",
        "\n"
      ],
      "metadata": {
        "id": "B8QIoPmWawbI"
      }
    },
    {
      "cell_type": "code",
      "source": [
        "\"\"\"\n",
        "\n",
        "1.  <    Less than\n",
        "2.  >    Greater than\n",
        "3.  <=   Less than euqal to\n",
        "4.  >=   Greater than equal to\n",
        "5.  ==   Equal to\n",
        "6.  !=   Not equal to\n",
        "\n",
        "\"\"\""
      ],
      "metadata": {
        "id": "VrORgwNKbYw1"
      },
      "execution_count": null,
      "outputs": []
    },
    {
      "cell_type": "markdown",
      "source": [
        "#6. How do you tell the difference between the equal to and assignment operators? Describe a condition and when you would use one.\n",
        "\n",
        "Equal to operator is a comaprison operator. It is used to compare two values. It is used as \"==\" in python pregamming language.\n",
        "\n",
        "Assignment operator is used to assign values to variables. It is used as \"a=1\".\n"
      ],
      "metadata": {
        "id": "3eah_OTlbulX"
      }
    },
    {
      "cell_type": "code",
      "source": [
        "#Equal to operator (==)\n",
        "#Lets say we have two variables\n",
        "a = 10\n",
        "b = 20\n",
        "#and we want to check if both of them are equal or not, then we will use \"==\" operator\n",
        "a==b \n",
        "#Here we are compairing two values to each other therfore \"==\" is known as COMPARISON OPERATOR"
      ],
      "metadata": {
        "colab": {
          "base_uri": "https://localhost:8080/"
        },
        "id": "haSagwCncrjA",
        "outputId": "4d9373b5-fa93-4c6e-ae1b-80c102ad9e2b"
      },
      "execution_count": null,
      "outputs": [
        {
          "output_type": "execute_result",
          "data": {
            "text/plain": [
              "False"
            ]
          },
          "metadata": {},
          "execution_count": 5
        }
      ]
    },
    {
      "cell_type": "code",
      "source": [
        "#Assignment operator (=)\n",
        "#Lets say we want to assign values to variable as 10, then we use \"=\" operator\n",
        "x = 10\n",
        "print(x)\n",
        "#Here we are assigning value to x as 10 therefore \"=\" is knowN as ASSIGNMENT OPERATOR"
      ],
      "metadata": {
        "colab": {
          "base_uri": "https://localhost:8080/"
        },
        "id": "5X2qjsqNdMUK",
        "outputId": "c415472f-0a57-4c99-cf6b-ac0b1fa8a7c1"
      },
      "execution_count": null,
      "outputs": [
        {
          "output_type": "stream",
          "name": "stdout",
          "text": [
            "10\n"
          ]
        }
      ]
    },
    {
      "cell_type": "markdown",
      "source": [
        "#7. Identify the three blocks in this code:\n",
        "\n"
      ],
      "metadata": {
        "id": "B1vqQ69jd8o_"
      }
    },
    {
      "cell_type": "code",
      "source": [
        "spam = 0\n",
        "if spam == 10:\n",
        "  print(\"eggs\")\n",
        "if spam > 5:\n",
        "  print(\"bacon\")\n",
        "else:\n",
        "  print(\"ham\")\n",
        "  print(\"spam\")\n",
        "  print(\"spam\")\n",
        "\n",
        "#Peice of code written at same intendation level is called as BLOCK OF CODE.\n",
        "#In above example we have 3 Blocks of Code.\n",
        "\n",
        "#First Block of Code\n",
        "  if spam == 10:\n",
        "    print(\"eggs\")\n",
        "\n",
        "#Second Block of Code\n",
        "  if spam > 5:\n",
        "    print(\"bacon\")\n",
        "\n",
        "#Third Block of Code\n",
        "  else:\n",
        "    print(\"ham\")\n",
        "    print(\"spam\")\n",
        "    print(\"spam\")"
      ],
      "metadata": {
        "id": "zvTrH5hDeTXv"
      },
      "execution_count": null,
      "outputs": []
    },
    {
      "cell_type": "markdown",
      "source": [
        "#8. Write code that prints Hello if 1 is stored in spam, prints Howdy if 2 is stored in spam, and prints Greetings! if anything else is stored in spam."
      ],
      "metadata": {
        "id": "y5dO-UeigN3z"
      }
    },
    {
      "cell_type": "code",
      "source": [
        "spam = 1\n",
        "if spam == 1:\n",
        "  print(\"Hello\")\n",
        "elif spam == 2:\n",
        "  print(\"Howdy\")\n",
        "else:\n",
        "  print(\"Greetings!\")"
      ],
      "metadata": {
        "colab": {
          "base_uri": "https://localhost:8080/"
        },
        "id": "knTylUjmgcQW",
        "outputId": "401a91b4-a5b6-4f06-8e8c-abd383460a1f"
      },
      "execution_count": null,
      "outputs": [
        {
          "output_type": "stream",
          "name": "stdout",
          "text": [
            "Hello\n"
          ]
        }
      ]
    },
    {
      "cell_type": "markdown",
      "source": [
        "#9.If your programme is stuck in an endless loop, what keys you’ll press?\n",
        "\n",
        "CTRL + C"
      ],
      "metadata": {
        "id": "1yAnaZQfg3tj"
      }
    },
    {
      "cell_type": "markdown",
      "source": [
        "#10. How can you tell the difference between break and continue?\n",
        "\n",
        "*   Break : Its used to come of out of loop.\n",
        "*   Continue : Its used to continue the loop.\n",
        "\n"
      ],
      "metadata": {
        "id": "7Dh1tjX9eQ2Y"
      }
    },
    {
      "cell_type": "code",
      "source": [
        "#for example:\n",
        "\n",
        "numbers = [12, 75, 150, 180, 145, 525, 50]\n",
        "for i in numbers:\n",
        "  if i>500:\n",
        "    break\n",
        "  elif i>150:\n",
        "    continue\n",
        "  elif i%5==0:\n",
        "    print(i)\n",
        "\n",
        "\"\"\"\n",
        "In above exmaple,\n",
        "we are using BREAK to come out of loop if values of i is greater \n",
        "than 500 \n",
        "and we are using CONTINUE to keep loop running if value of i is greater than 150.\n",
        "\"\"\""
      ],
      "metadata": {
        "id": "RFBG6jH0iQkG"
      },
      "execution_count": null,
      "outputs": []
    },
    {
      "cell_type": "markdown",
      "source": [
        "#11. In a for loop, what is the difference between range(10), range(0, 10), and range(0, 10, 1)?"
      ],
      "metadata": {
        "id": "-hi_rSAmjIxE"
      }
    },
    {
      "cell_type": "code",
      "source": [
        "\"\"\"\n",
        "range(start, end, steps)\n",
        "it takes 3 parameters.\n",
        "ex:\n",
        "range (0,10,1)\n",
        "so above range describes that start from 0 stop at 10 at the interval of 1.\n",
        "\n",
        "\"\"\"\n",
        "for i in range(0,10,1):\n",
        "  print(i)"
      ],
      "metadata": {
        "id": "C15y-_0jjgau",
        "colab": {
          "base_uri": "https://localhost:8080/"
        },
        "outputId": "f7a54e9d-5775-4267-b0cb-f5430aeadbf9"
      },
      "execution_count": 13,
      "outputs": [
        {
          "output_type": "stream",
          "name": "stdout",
          "text": [
            "0\n",
            "1\n",
            "2\n",
            "3\n",
            "4\n",
            "5\n",
            "6\n",
            "7\n",
            "8\n",
            "9\n"
          ]
        }
      ]
    },
    {
      "cell_type": "code",
      "source": [
        "\"\"\"\n",
        "range(start,end)\n",
        "it takes 2 parameters.\n",
        "ex:\n",
        "range(0,10)\n",
        "so above range describes to start at 0 and end at 10.\n",
        "\n",
        "\"\"\"\n",
        "for i in range(0,10):\n",
        "  print(i)"
      ],
      "metadata": {
        "colab": {
          "base_uri": "https://localhost:8080/"
        },
        "id": "f041DPXySPN5",
        "outputId": "2d5fe225-55a9-4647-d9f6-8309088bad22"
      },
      "execution_count": 14,
      "outputs": [
        {
          "output_type": "stream",
          "name": "stdout",
          "text": [
            "0\n",
            "1\n",
            "2\n",
            "3\n",
            "4\n",
            "5\n",
            "6\n",
            "7\n",
            "8\n",
            "9\n"
          ]
        }
      ]
    },
    {
      "cell_type": "code",
      "source": [
        "\"\"\"\n",
        "range(end)\n",
        "it takes 1 parameter.\n",
        "ex:\n",
        "range(10)\n",
        "so above range describes that end at 10.\n",
        "\n",
        "\"\"\"\n",
        "for i in range(10):\n",
        "  print(i)"
      ],
      "metadata": {
        "colab": {
          "base_uri": "https://localhost:8080/"
        },
        "id": "YOLW4B0lSjpw",
        "outputId": "bb0a43e8-9a08-43c5-82c9-95fce8e31a83"
      },
      "execution_count": 15,
      "outputs": [
        {
          "output_type": "stream",
          "name": "stdout",
          "text": [
            "0\n",
            "1\n",
            "2\n",
            "3\n",
            "4\n",
            "5\n",
            "6\n",
            "7\n",
            "8\n",
            "9\n"
          ]
        }
      ]
    },
    {
      "cell_type": "markdown",
      "source": [
        "#12. Write a short program that prints the numbers 1 to 10 using a for loop. Then write an equivalent program that prints the numbers 1 to 10 using a while loop."
      ],
      "metadata": {
        "id": "ZD8HpB5sH4oH"
      }
    },
    {
      "cell_type": "code",
      "source": [
        "#for loop\n",
        "\n",
        "for i in range(1 ,10+1):\n",
        "  print (i)"
      ],
      "metadata": {
        "colab": {
          "base_uri": "https://localhost:8080/"
        },
        "id": "RkjogCa9H7R-",
        "outputId": "a61cd886-cd89-43d6-e522-3e304c3a77f1"
      },
      "execution_count": 7,
      "outputs": [
        {
          "output_type": "stream",
          "name": "stdout",
          "text": [
            "1\n",
            "2\n",
            "3\n",
            "4\n",
            "5\n",
            "6\n",
            "7\n",
            "8\n",
            "9\n",
            "10\n"
          ]
        }
      ]
    },
    {
      "cell_type": "code",
      "source": [
        "#while loop\n",
        "i=1\n",
        "while i<=10:\n",
        "  print(i)\n",
        "  i = i+1"
      ],
      "metadata": {
        "colab": {
          "base_uri": "https://localhost:8080/"
        },
        "id": "dsHl_RtnIpN3",
        "outputId": "c472daf2-aae3-4b2d-e121-dbfb562c9af0"
      },
      "execution_count": 10,
      "outputs": [
        {
          "output_type": "stream",
          "name": "stdout",
          "text": [
            "1\n",
            "2\n",
            "3\n",
            "4\n",
            "5\n",
            "6\n",
            "7\n",
            "8\n",
            "9\n",
            "10\n"
          ]
        }
      ]
    },
    {
      "cell_type": "markdown",
      "source": [
        "#13. If you had a function named bacon() inside a module named spam, how would you call it after importing spam?\n",
        "\n"
      ],
      "metadata": {
        "id": "FSuKSzoXJnfv"
      }
    },
    {
      "cell_type": "code",
      "source": [
        "\"\"\"\n",
        "import spam\n",
        "spam.bacon()\n",
        "_______________\n",
        "\n",
        "from spam import * \n",
        "bacon()\n",
        "\n",
        "\"\"\""
      ],
      "metadata": {
        "id": "5mB7pORiQ8Fj"
      },
      "execution_count": null,
      "outputs": []
    }
  ]
}