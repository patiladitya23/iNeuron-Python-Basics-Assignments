{
  "nbformat": 4,
  "nbformat_minor": 0,
  "metadata": {
    "colab": {
      "provenance": []
    },
    "kernelspec": {
      "name": "python3",
      "display_name": "Python 3"
    },
    "language_info": {
      "name": "python"
    }
  },
  "cells": [
    {
      "cell_type": "markdown",
      "source": [
        "# 1. Why are functions advantageous to have in your programs?\n",
        "*   Functions are used to increase the reusability of the code. \n",
        "*   They also help to easily understand the code because of the doc string.\n",
        "*   Functions increase readability of the code.\n",
        "*   Functions make code easy to maintain."
      ],
      "metadata": {
        "id": "hMmlw2Gn_Kdp"
      }
    },
    {
      "cell_type": "markdown",
      "source": [
        "# 2. When does the code in a function run: when it&#39;s specified or when it&#39;s called?\n",
        "*   Code in the fuction runs when it is called. we can call the function by using function name and adding arguments in () in any.\n",
        "\n",
        "\n"
      ],
      "metadata": {
        "id": "qVpB4ZRVAFpe"
      }
    },
    {
      "cell_type": "code",
      "execution_count": 14,
      "metadata": {
        "id": "YwpbcpNH_Iju"
      },
      "outputs": [],
      "source": [
        "#example\n",
        "\n",
        "def sum(a,b): # specifying the function of creating the function \n",
        "  \"\"\"This function takes two integer arguments and helps us to find sum of the arguments.\"\"\"\n",
        "  if type(a)==int and type(b)==int: \n",
        "    print(a+b)"
      ]
    },
    {
      "cell_type": "code",
      "source": [
        "sum(5,6) #calling of function to perform the task"
      ],
      "metadata": {
        "colab": {
          "base_uri": "https://localhost:8080/"
        },
        "id": "UoNiN7jgBKOs",
        "outputId": "3459c55f-d0a9-49f5-92a8-db1b43accfc2"
      },
      "execution_count": 15,
      "outputs": [
        {
          "output_type": "stream",
          "name": "stdout",
          "text": [
            "11\n"
          ]
        }
      ]
    },
    {
      "cell_type": "markdown",
      "source": [
        "# 3. What statement creates a function?\n",
        "*   We use 'def' keyword to create the function followed by function name and parentheses and a colon.\n",
        "\n",
        "\n",
        "\n",
        "\n",
        "\n",
        "\n"
      ],
      "metadata": {
        "id": "lmQCJshiC1KR"
      }
    },
    {
      "cell_type": "code",
      "source": [
        "#ex\n",
        "def hello():\n",
        "  print('hello')"
      ],
      "metadata": {
        "id": "xp3B3R5SDk7J"
      },
      "execution_count": 16,
      "outputs": []
    },
    {
      "cell_type": "markdown",
      "source": [],
      "metadata": {
        "id": "vAeuV_DPDhDQ"
      }
    },
    {
      "cell_type": "markdown",
      "source": [
        "# 4. What is the difference between a function and a function call?\n",
        "*   Function : Function is nothing but block of code used to perform specific task. We write functions once and can used it many times.\n",
        "*   Function call : We[link text](https://) can use the specified function by calling the function by using function name.\n",
        "\n"
      ],
      "metadata": {
        "id": "iHwl2DqHD7n_"
      }
    },
    {
      "cell_type": "markdown",
      "source": [
        "# 5. How many global scopes are there in a Python program? How many local scopes?\n",
        "*   There is one global scope in a python program and local scopes are created within the function.\n",
        " \n",
        "\n",
        "\n",
        "\n"
      ],
      "metadata": {
        "id": "mF1OvQfBE6ya"
      }
    },
    {
      "cell_type": "markdown",
      "source": [
        "# 6. What happens to variables in a local scope when the function call returns?\n",
        "\n",
        "\n",
        "*   Variable in local scope are destroyed when the function call returns.\n",
        "\n"
      ],
      "metadata": {
        "id": "Dqm2rQXXEeGf"
      }
    },
    {
      "cell_type": "markdown",
      "source": [
        "# 7. What is the concept of a return value? Is it possible to have a return value in an expression?\n",
        "\n",
        "\n",
        "*   Return values is inside the function to send the function's result back to the caller.\n",
        "*   Yes it is possible to have a return value in an expression.\n",
        "\n"
      ],
      "metadata": {
        "id": "sHeLgBTLJkH_"
      }
    },
    {
      "cell_type": "markdown",
      "source": [
        "# 8. If a function does not have a return statement, what is the return value of a call to that function?\n",
        "\n",
        "\n",
        "*   If a function does not have any return value, it returns none value.\n",
        "\n",
        "\n"
      ],
      "metadata": {
        "id": "-usmMmyBKL2M"
      }
    },
    {
      "cell_type": "markdown",
      "source": [
        "# 9. How do you make a function variable refer to the global variable?\n",
        "\n",
        "\n",
        "*   We can make a function variable refer to the global variable using 'Global' keyword.\n",
        "\n"
      ],
      "metadata": {
        "id": "7qdTXhpcKhoF"
      }
    },
    {
      "cell_type": "markdown",
      "source": [
        "# 10. What is the data type of None?\n",
        "\n",
        "\n",
        "*   Data type of none is None type\n",
        "\n",
        "\n"
      ],
      "metadata": {
        "id": "Yflp2-ymNod7"
      }
    },
    {
      "cell_type": "markdown",
      "source": [
        "# 11. What does the sentence import areallyourpetsnamederic do?\n",
        "\n",
        "\n",
        "*   import areallyourpetsnamederic helps us to import areallyourpetsnamederic module.\n",
        "\n"
      ],
      "metadata": {
        "id": "JVkNmsqjNxM3"
      }
    },
    {
      "cell_type": "markdown",
      "source": [
        "# 12. If you had a bacon() feature in a spam module, what would you call it after importing spam?\n",
        "\n",
        "\n",
        "*   spam.bacon()\n",
        "\n"
      ],
      "metadata": {
        "id": "fpVI7VrMOIiT"
      }
    },
    {
      "cell_type": "markdown",
      "source": [
        "# 13. What can you do to save a programme from crashing if it encounters an error?\n",
        "\n",
        "\n",
        "*   We can put the block of code that may encounter an error in try and use except block to handle the error.\n",
        "\n"
      ],
      "metadata": {
        "id": "vZeanA_ZOZEr"
      }
    },
    {
      "cell_type": "markdown",
      "source": [
        "# 14. What is the purpose of the try clause? What is the purpose of the except clause?\n",
        "\n",
        "\n",
        "*   try clause : try clause is used to hold the block of code that may generate error. \n",
        "*   except clause : except clause holds the block of code that handles the situation if the error happens.\n",
        "\n"
      ],
      "metadata": {
        "id": "flzI55BEPqXA"
      }
    }
  ]
}