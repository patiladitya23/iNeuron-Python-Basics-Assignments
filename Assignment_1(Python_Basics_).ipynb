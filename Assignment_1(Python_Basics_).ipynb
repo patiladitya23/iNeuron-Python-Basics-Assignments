{
  "nbformat": 4,
  "nbformat_minor": 0,
  "metadata": {
    "colab": {
      "provenance": [],
      "collapsed_sections": []
    },
    "kernelspec": {
      "name": "python3",
      "display_name": "Python 3"
    },
    "language_info": {
      "name": "python"
    }
  },
  "cells": [
    {
      "cell_type": "markdown",
      "source": [
        "#1.In the below elements which of them are values or an expression? eg:- values can be integer or string and expressions will be mathematical operators.\n",
        "\n",
        "1.   * -> is expression\n",
        "2.   'hello' -> is value\n",
        "3.   -87.8 -> is value\n",
        "4.   - -> is expression\n",
        "5.   / -> is expression\n",
        "6.   + -> is expression\n",
        "7.   6 -> is value \n",
        "\n"
      ],
      "metadata": {
        "id": "Xz6E0vBtj9q2"
      }
    },
    {
      "cell_type": "markdown",
      "source": [
        "#2. What is the difference between string and variable?\n",
        "\n",
        "1.   STRING -> It is built in class. They can be written in single or double quote.  ex. \"hello world\", 'aditya0203patil@gmail.com', \"7274733454\" are exmaple of string\n",
        "2.   VARIABLE -> It is a container in which can be used to store values in it. Variables has unique address.  ex. a = \"hello world\", here 'a' is variable which is used to store the string (hello wordl) in it \n",
        "\n"
      ],
      "metadata": {
        "id": "XTckVwjAk8eG"
      }
    },
    {
      "cell_type": "code",
      "source": [
        "a = \"hello world\"\n",
        "print(type(a))\n",
        "print(id(a))"
      ],
      "metadata": {
        "colab": {
          "base_uri": "https://localhost:8080/"
        },
        "id": "MdHvenDA5GJf",
        "outputId": "ad4ac8c2-fc71-46a9-8fe8-de8782325f7e"
      },
      "execution_count": 1,
      "outputs": [
        {
          "output_type": "stream",
          "name": "stdout",
          "text": [
            "<class 'str'>\n",
            "140651862237296\n"
          ]
        }
      ]
    },
    {
      "cell_type": "markdown",
      "source": [
        "#3. Describe three different data types.\n",
        "\n",
        "1.   integer -> int or integers are whole numbers, positive or negative without decimal point in it. They can of unlimited length. Int can also be zero\n",
        "\n",
        "2.   float -> float are positive or negative fractional values. They can be unlimited lenght.\n",
        "\n",
        "3.   boolean -> It is a data type which can have two values i.e TRUE or FALSE. It is used to express truth value of expressions.\n",
        "\n"
      ],
      "metadata": {
        "id": "tHdE7t9emfzl"
      }
    },
    {
      "cell_type": "code",
      "execution_count": null,
      "metadata": {
        "colab": {
          "base_uri": "https://localhost:8080/"
        },
        "id": "26tX3qOIjzNy",
        "outputId": "21d92595-c8a2-40cc-a1b7-072773d4879f"
      },
      "outputs": [
        {
          "output_type": "stream",
          "name": "stdout",
          "text": [
            "<class 'int'>\n",
            "<class 'float'>\n",
            "<class 'bool'>\n"
          ]
        }
      ],
      "source": [
        "a = 123454321\n",
        "print(type(a))\n",
        "b = 123.321\n",
        "print(type(b))\n",
        "c = True\n",
        "print(type(c))"
      ]
    },
    {
      "cell_type": "markdown",
      "source": [
        "#4. What is an expression made up of? What do all expressions do?\n",
        " \n",
        "*   Expression is made up of operators and operands. \n",
        "*   ex. 12 + 14, here 12 and 14 are operands and \"+\" operator \n",
        "operators can be of various diff types ex. +, -, *, /, %, **, //, and, or, increment, decrement, paranthesis () {} [], etc\n",
        "*   Expressions are used to calculate some or the others values by using diff operators.\n",
        "\n",
        "\n",
        "\n"
      ],
      "metadata": {
        "id": "4ewP-Wg6o7fM"
      }
    },
    {
      "cell_type": "code",
      "source": [
        "a = 12\n",
        "b = 14\n",
        "result = a + b\n",
        "print(result)"
      ],
      "metadata": {
        "colab": {
          "base_uri": "https://localhost:8080/"
        },
        "id": "zpmbXwhyv6n4",
        "outputId": "6f387639-8afc-4cf7-fa88-0f1baf1760a4"
      },
      "execution_count": null,
      "outputs": [
        {
          "output_type": "stream",
          "name": "stdout",
          "text": [
            "26\n"
          ]
        }
      ]
    },
    {
      "cell_type": "markdown",
      "source": [
        "#5. This assignment statements, like spam = 10. What is the difference between an expression and a statement?\n",
        "\n",
        "\n",
        "\n",
        "1.   expression is a piece of code that evaluated to value. It comprises of variables, operators.\n",
        "ex 55<100, 7+8\n",
        "\n",
        "*   55<100 when evaluated gives us true \n",
        "*   7+8, when evaluated gives us 15\n",
        "\n",
        "\n",
        "2.   statement is a piece of code which gives instructions to computer. It comprises of loops, control statements, import statemts\n",
        "\n",
        "*   if x == 20 then print(x)\n",
        "*   import numpy\n",
        "\n",
        "\n",
        "\n"
      ],
      "metadata": {
        "id": "H4gJxOLhvy89"
      }
    },
    {
      "cell_type": "code",
      "source": [
        "a = 55<100\n",
        "print(a)\n",
        "\n",
        "b = 7+8\n",
        "print(b)\n",
        "\n",
        "for i in range (1,20):\n",
        "   if i%2==0:\n",
        "     print(i)\n",
        "\n",
        "import numpy\n",
        "\n",
        "spam = 10"
      ],
      "metadata": {
        "colab": {
          "base_uri": "https://localhost:8080/"
        },
        "id": "DEV2_IRw-Nfb",
        "outputId": "f9ffd12c-a56b-49ec-83bb-33379751ac9b"
      },
      "execution_count": 6,
      "outputs": [
        {
          "output_type": "stream",
          "name": "stdout",
          "text": [
            "True\n",
            "15\n",
            "2\n",
            "4\n",
            "6\n",
            "8\n",
            "10\n",
            "12\n",
            "14\n",
            "16\n",
            "18\n"
          ]
        }
      ]
    },
    {
      "cell_type": "markdown",
      "source": [
        "#6. After running the following code, what does the variable bacon contain?\n",
        "\n",
        "> bacon = 22\n",
        "\n",
        "> bacon + 1\n",
        "\n",
        "After running the code value of bacon is 23.\n",
        "\n",
        "\n",
        "  \n",
        "\n"
      ],
      "metadata": {
        "id": "K8XDiJev-J6f"
      }
    },
    {
      "cell_type": "code",
      "source": [
        "bacon = 22\n",
        "bacon = bacon + 1\n",
        "print(bacon)"
      ],
      "metadata": {
        "colab": {
          "base_uri": "https://localhost:8080/"
        },
        "id": "Hw07mniD_Nug",
        "outputId": "5f428a96-285d-49e1-83c3-654cea2e3136"
      },
      "execution_count": 8,
      "outputs": [
        {
          "output_type": "stream",
          "name": "stdout",
          "text": [
            "23\n"
          ]
        }
      ]
    },
    {
      "cell_type": "markdown",
      "source": [
        "#7. What should the values of the following two terms be?\n",
        "\n",
        "> 'spam' + 'spamspam'\n",
        "\n",
        "> 'spam'*3\n",
        "\n",
        "value of 'spam'+'spamspam' = spamspamspam\n",
        "values of 'spam'*3 = spamspamspam\n",
        "\n",
        "\n",
        "\n",
        "\n"
      ],
      "metadata": {
        "id": "41fDwawM_mbj"
      }
    },
    {
      "cell_type": "code",
      "source": [
        "print(\"spam\"+\"spamspam\")\n",
        "print(\"spam\"*3)"
      ],
      "metadata": {
        "colab": {
          "base_uri": "https://localhost:8080/"
        },
        "id": "nwUmS6zM_9hx",
        "outputId": "07938634-b0cb-4eca-eb33-ea66f949f592"
      },
      "execution_count": 10,
      "outputs": [
        {
          "output_type": "stream",
          "name": "stdout",
          "text": [
            "spamspamspam\n",
            "spamspamspam\n"
          ]
        }
      ]
    },
    {
      "cell_type": "markdown",
      "source": [
        "#8. Why is eggs a valid variable name while 100 is invalid?\n",
        "\n",
        "Variable name should always start with aplhabets, it can also contain numbers but cannot start with numbers, it can start with underscore\n",
        "\n",
        "According to above rules \"eggs\" is valid variable name and \"100\" is invalid variable name."
      ],
      "metadata": {
        "id": "YRsaFnmDAW21"
      }
    },
    {
      "cell_type": "markdown",
      "source": [
        "#9.What three functions can be used to get the integer, floating-point number, or string version of a value?\n",
        "\n",
        "int(), float(), str()"
      ],
      "metadata": {
        "id": "QYRmg4_BCfJz"
      }
    },
    {
      "cell_type": "markdown",
      "source": [
        "#10. Why does this expression cause an error? How can you fix it? \n"
      ],
      "metadata": {
        "id": "A03tFetoE9d4"
      }
    },
    {
      "cell_type": "code",
      "source": [
        "\"I have eaten\" + 99 + \"buritos.\""
      ],
      "metadata": {
        "colab": {
          "base_uri": "https://localhost:8080/",
          "height": 165
        },
        "id": "Z-FVkAaiCeIp",
        "outputId": "c25fd81d-b93e-4262-dad2-bd250c85a719"
      },
      "execution_count": 11,
      "outputs": [
        {
          "output_type": "error",
          "ename": "TypeError",
          "evalue": "ignored",
          "traceback": [
            "\u001b[0;31m---------------------------------------------------------------------------\u001b[0m",
            "\u001b[0;31mTypeError\u001b[0m                                 Traceback (most recent call last)",
            "\u001b[0;32m<ipython-input-11-5ab94869e462>\u001b[0m in \u001b[0;36m<module>\u001b[0;34m\u001b[0m\n\u001b[0;32m----> 1\u001b[0;31m \u001b[0;34m\"I have eaten\"\u001b[0m \u001b[0;34m+\u001b[0m \u001b[0;36m99\u001b[0m \u001b[0;34m+\u001b[0m \u001b[0;34m\"buritos.\"\u001b[0m\u001b[0;34m\u001b[0m\u001b[0;34m\u001b[0m\u001b[0m\n\u001b[0m",
            "\u001b[0;31mTypeError\u001b[0m: can only concatenate str (not \"int\") to str"
          ]
        }
      ]
    },
    {
      "cell_type": "markdown",
      "source": [
        "above type error is caused because we can only concatenante string value to string value in above example 99 is int value thats why type error is caused, to solve this error we can add double or single quotes around 99."
      ],
      "metadata": {
        "id": "e5Y0U_WOFY4p"
      }
    },
    {
      "cell_type": "code",
      "source": [
        "\"I have eaten\" + \" \" + \"99\" + \" \" + \"buritos.\""
      ],
      "metadata": {
        "colab": {
          "base_uri": "https://localhost:8080/",
          "height": 35
        },
        "id": "uBPNauaEF3uI",
        "outputId": "dd3a729d-224c-47a9-d5ee-5d353ee4ebb0"
      },
      "execution_count": 13,
      "outputs": [
        {
          "output_type": "execute_result",
          "data": {
            "text/plain": [
              "'I have eaten 99 buritos.'"
            ],
            "application/vnd.google.colaboratory.intrinsic+json": {
              "type": "string"
            }
          },
          "metadata": {},
          "execution_count": 13
        }
      ]
    },
    {
      "cell_type": "markdown",
      "source": [],
      "metadata": {
        "id": "ftCJ3LzGF1bo"
      }
    }
  ]
}